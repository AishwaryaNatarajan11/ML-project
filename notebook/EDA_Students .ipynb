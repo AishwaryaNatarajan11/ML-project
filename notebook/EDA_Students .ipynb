{
 "cells": [
  {
   "cell_type": "markdown",
   "id": "f8c51951",
   "metadata": {},
   "source": [
    "# Student Performance Indicator"
   ]
  },
  {
   "cell_type": "markdown",
   "id": "08689dd5",
   "metadata": {},
   "source": [
    "## Life cycle of Machine Learning Project"
   ]
  },
  {
   "cell_type": "markdown",
   "id": "e5874a70",
   "metadata": {},
   "source": [
    "* Understanding the problem statements\n",
    "* Data collection\n",
    "* Data checks to perform\n",
    "* Exploratory data analysis\n",
    "* Data pre-processing\n",
    "* Model Training\n",
    "* Choose best model"
   ]
  },
  {
   "cell_type": "markdown",
   "id": "02345783",
   "metadata": {},
   "source": [
    "## 1. Problem Statement\n",
    "* This project understands hoe the student's performance (test score) is affected by other variables such as Gender, Ethnicity, Parental level of education, Lunch and Test preparation course. "
   ]
  },
  {
   "cell_type": "markdown",
   "id": "cffb0a50",
   "metadata": {},
   "source": [
    "## 2. Data Collection\n",
    "* Dataset Sources https://www.kaggle.com/datasets/spscientist/students-performance-in-exams\n",
    "* The data consists of 8 column and 1000 rows"
   ]
  },
  {
   "cell_type": "markdown",
   "id": "4eeac2c0",
   "metadata": {},
   "source": [
    "### 2.1 Import Data and Required Packages\n",
    "\n",
    "Importing Pandas, Numpy, Matplotlib, Seaborn, and Warnings Library.\n"
   ]
  },
  {
   "cell_type": "code",
   "execution_count": 3,
   "id": "da4790d4",
   "metadata": {},
   "outputs": [],
   "source": [
    "import pandas as pd\n",
    "import numpy as np\n",
    "import seaborn as sns\n",
    "import matplotlib.pyplot as plt\n",
    "%matplotlib inline\n",
    "import warnings\n",
    "warnings.filterwarnings(\"ignore\")\n"
   ]
  },
  {
   "cell_type": "code",
   "execution_count": 4,
   "id": "db33cf97",
   "metadata": {
    "scrolled": true
   },
   "outputs": [
    {
     "data": {
      "text/html": [
       "<div>\n",
       "<style scoped>\n",
       "    .dataframe tbody tr th:only-of-type {\n",
       "        vertical-align: middle;\n",
       "    }\n",
       "\n",
       "    .dataframe tbody tr th {\n",
       "        vertical-align: top;\n",
       "    }\n",
       "\n",
       "    .dataframe thead th {\n",
       "        text-align: right;\n",
       "    }\n",
       "</style>\n",
       "<table border=\"1\" class=\"dataframe\">\n",
       "  <thead>\n",
       "    <tr style=\"text-align: right;\">\n",
       "      <th></th>\n",
       "      <th>gender</th>\n",
       "      <th>race_ethnicity</th>\n",
       "      <th>parental_level_of_education</th>\n",
       "      <th>lunch</th>\n",
       "      <th>test_preparation_course</th>\n",
       "      <th>math_score</th>\n",
       "      <th>reading_score</th>\n",
       "      <th>writing_score</th>\n",
       "    </tr>\n",
       "  </thead>\n",
       "  <tbody>\n",
       "    <tr>\n",
       "      <th>0</th>\n",
       "      <td>female</td>\n",
       "      <td>group B</td>\n",
       "      <td>bachelor's degree</td>\n",
       "      <td>standard</td>\n",
       "      <td>none</td>\n",
       "      <td>72</td>\n",
       "      <td>72</td>\n",
       "      <td>74</td>\n",
       "    </tr>\n",
       "    <tr>\n",
       "      <th>1</th>\n",
       "      <td>female</td>\n",
       "      <td>group C</td>\n",
       "      <td>some college</td>\n",
       "      <td>standard</td>\n",
       "      <td>completed</td>\n",
       "      <td>69</td>\n",
       "      <td>90</td>\n",
       "      <td>88</td>\n",
       "    </tr>\n",
       "    <tr>\n",
       "      <th>2</th>\n",
       "      <td>female</td>\n",
       "      <td>group B</td>\n",
       "      <td>master's degree</td>\n",
       "      <td>standard</td>\n",
       "      <td>none</td>\n",
       "      <td>90</td>\n",
       "      <td>95</td>\n",
       "      <td>93</td>\n",
       "    </tr>\n",
       "    <tr>\n",
       "      <th>3</th>\n",
       "      <td>male</td>\n",
       "      <td>group A</td>\n",
       "      <td>associate's degree</td>\n",
       "      <td>free/reduced</td>\n",
       "      <td>none</td>\n",
       "      <td>47</td>\n",
       "      <td>57</td>\n",
       "      <td>44</td>\n",
       "    </tr>\n",
       "    <tr>\n",
       "      <th>4</th>\n",
       "      <td>male</td>\n",
       "      <td>group C</td>\n",
       "      <td>some college</td>\n",
       "      <td>standard</td>\n",
       "      <td>none</td>\n",
       "      <td>76</td>\n",
       "      <td>78</td>\n",
       "      <td>75</td>\n",
       "    </tr>\n",
       "  </tbody>\n",
       "</table>\n",
       "</div>"
      ],
      "text/plain": [
       "   gender race_ethnicity parental_level_of_education         lunch  \\\n",
       "0  female        group B           bachelor's degree      standard   \n",
       "1  female        group C                some college      standard   \n",
       "2  female        group B             master's degree      standard   \n",
       "3    male        group A          associate's degree  free/reduced   \n",
       "4    male        group C                some college      standard   \n",
       "\n",
       "  test_preparation_course  math_score  reading_score  writing_score  \n",
       "0                    none          72             72             74  \n",
       "1               completed          69             90             88  \n",
       "2                    none          90             95             93  \n",
       "3                    none          47             57             44  \n",
       "4                    none          76             78             75  "
      ]
     },
     "execution_count": 4,
     "metadata": {},
     "output_type": "execute_result"
    }
   ],
   "source": [
    "df = pd.read_csv(\"Data/Students_details.csv\")\n",
    "df.head()"
   ]
  },
  {
   "cell_type": "code",
   "execution_count": 5,
   "id": "65986352",
   "metadata": {},
   "outputs": [
    {
     "data": {
      "text/plain": [
       "(1000, 8)"
      ]
     },
     "execution_count": 5,
     "metadata": {},
     "output_type": "execute_result"
    }
   ],
   "source": [
    "df.shape"
   ]
  },
  {
   "cell_type": "markdown",
   "id": "13b4fcb4",
   "metadata": {},
   "source": [
    "\n",
    "### 2.2 Dataset information"
   ]
  },
  {
   "cell_type": "markdown",
   "id": "83b31a13",
   "metadata": {},
   "source": [
    "* Gender: sex of students (male/female)\n",
    "* Race/ethnicity: ethnicity of students -> (Group - A,B,C,D,E)\n",
    "* Parental level of education\n",
    "* lunch\n",
    "* Test preparation course\n",
    "* Math score\n",
    "* Reading score\n",
    "* Writing score"
   ]
  },
  {
   "cell_type": "markdown",
   "id": "dd2f8d9a",
   "metadata": {},
   "source": [
    "## 3. Data checks to perform"
   ]
  },
  {
   "cell_type": "markdown",
   "id": "7a3f0a8b",
   "metadata": {},
   "source": [
    "* Check missing values\n",
    "* Check duplicates\n",
    "* Check data types\n",
    "* Check the number of unique values of each column\n",
    "* Check statitics of data set\n",
    "* check various categories present in the different categorical column"
   ]
  },
  {
   "cell_type": "markdown",
   "id": "70a10457",
   "metadata": {},
   "source": [
    "### 3.1 Check any missing values\n"
   ]
  },
  {
   "cell_type": "code",
   "execution_count": 6,
   "id": "23ae61fc",
   "metadata": {},
   "outputs": [
    {
     "data": {
      "text/plain": [
       "gender                         0\n",
       "race_ethnicity                 0\n",
       "parental_level_of_education    0\n",
       "lunch                          0\n",
       "test_preparation_course        0\n",
       "math_score                     0\n",
       "reading_score                  0\n",
       "writing_score                  0\n",
       "dtype: int64"
      ]
     },
     "execution_count": 6,
     "metadata": {},
     "output_type": "execute_result"
    }
   ],
   "source": [
    "df.isna().sum()"
   ]
  },
  {
   "cell_type": "markdown",
   "id": "650bf7d6",
   "metadata": {},
   "source": [
    "#### There is no missing values"
   ]
  },
  {
   "cell_type": "markdown",
   "id": "4d007816",
   "metadata": {},
   "source": [
    "### 3.2 Checking duplicates"
   ]
  },
  {
   "cell_type": "code",
   "execution_count": 8,
   "id": "38e40097",
   "metadata": {},
   "outputs": [
    {
     "data": {
      "text/plain": [
       "0"
      ]
     },
     "execution_count": 8,
     "metadata": {},
     "output_type": "execute_result"
    }
   ],
   "source": [
    "df.duplicated().sum()"
   ]
  },
  {
   "cell_type": "markdown",
   "id": "4926e33e",
   "metadata": {},
   "source": [
    "#### There is no duplicate values"
   ]
  },
  {
   "cell_type": "code",
   "execution_count": null,
   "id": "68140f9b",
   "metadata": {},
   "outputs": [],
   "source": []
  }
 ],
 "metadata": {
  "kernelspec": {
   "display_name": "Python 3 (ipykernel)",
   "language": "python",
   "name": "python3"
  },
  "language_info": {
   "codemirror_mode": {
    "name": "ipython",
    "version": 3
   },
   "file_extension": ".py",
   "mimetype": "text/x-python",
   "name": "python",
   "nbconvert_exporter": "python",
   "pygments_lexer": "ipython3",
   "version": "3.8.0"
  }
 },
 "nbformat": 4,
 "nbformat_minor": 5
}
